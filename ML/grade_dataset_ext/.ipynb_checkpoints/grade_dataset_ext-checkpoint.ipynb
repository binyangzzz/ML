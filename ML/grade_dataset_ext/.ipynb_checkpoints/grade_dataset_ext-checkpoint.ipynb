{
 "cells": [
  {
   "cell_type": "code",
   "execution_count": null,
   "metadata": {},
   "outputs": [],
   "source": [
    "\n",
    "\n",
    "import numpy as np\n",
    "import matplotlib.pyplot as plt\n",
    "from sklearn.linear_model import LogisticRegression\n",
    "# Textbook: Principles and Practices of Machine Learning\n",
    "# Grade dataset (extended)\n",
    "# Author: Zhe Chen (ml_iot@163.com), 2021\n",
    "\n",
    "import numpy as np\n",
    "\n",
    "x_train = np.array([0, 5, 10, 25, 30, 35, 50, 51, 52, 53, 54, 55, 56, 57, 58, 59, 61, 62, 63, 64, 65, 66, 67, 68, 69, 70, 71, 72, 73]).reshape((1, -1))\n",
    "y_train = np.array([0, 0, 0, 1, 1, 1, 0, 0, 0, 0, 0, 0, 0, 0, 0, 0, 1, 1, 1, 1, 1, 1, 1, 1, 1, 1, 1, 1, 1]).reshape((1, -1))\n",
    "m_train = x_train.size # number of training examples\n"
   ]
  },
  {
   "cell_type": "code",
   "execution_count": null,
   "metadata": {},
   "outputs": [],
   "source": [
    "model = LogisticRegression()\n",
    "\n",
    "# Train the model\n",
    "model.fit(x_train, y_train.ravel())  # ravel() to convert y_train to 1d array\n",
    "\n",
    "# Predict probabilities for the given inputs\n",
    "x_values = np.linspace(0, 73, 300).reshape(-1, 1)\n",
    "y_prob = model.predict_proba(x_values)[:, 1]  # Probabilities of positive class\n",
    "\n",
    "# Plot the curve\n",
    "plt.figure(figsize=(10, 6))\n",
    "plt.scatter(x_train, y_train, color='red', label='Training data')\n",
    "plt.plot(x_values, y_prob, color='blue', label='Logistic Regression Curve')\n",
    "plt.xlabel('Input Feature')\n",
    "plt.ylabel('Predicted Probability')\n",
    "plt.title('Logistic Regression Curve for Grade Dataset')\n",
    "plt.legend()\n",
    "plt.grid(True)\n",
    "plt.show()"
   ]
  },
  {
   "cell_type": "code",
   "execution_count": null,
   "metadata": {},
   "outputs": [],
   "source": []
  }
 ],
 "metadata": {
  "kernelspec": {
   "display_name": "Python 3 (ipykernel)",
   "language": "python",
   "name": "python3"
  },
  "language_info": {
   "codemirror_mode": {
    "name": "ipython",
    "version": 3
   },
   "file_extension": ".py",
   "mimetype": "text/x-python",
   "name": "python",
   "nbconvert_exporter": "python",
   "pygments_lexer": "ipython3",
   "version": "3.9.13"
  }
 },
 "nbformat": 4,
 "nbformat_minor": 4
}
